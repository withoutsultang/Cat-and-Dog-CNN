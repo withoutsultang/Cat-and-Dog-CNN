# predict.ipynb

import torch
from torch.utils.data import DataLoader
from model import ResNet18Binary
from utils import CatandDog, transform
import matplotlib.pyplot as plt
from sklearn.metrics import confusion_matrix, ConfusionMatrixDisplay

# 모델 및 데이터 로드
model_path = "model_resnet18_bce.pth"
model = ResNet18Binary()
device = torch.device("cuda:0" if torch.cuda.is_available() else "cpu")
checkpoint = torch.load(model_path, map_location=device)
model.load_state_dict(checkpoint['model'])
model = model.to(device)

# 테스트 데이터 로드
test_data = CatandDog(root='/content/drive/MyDrive/Colab Notebooks/content/archive/test_set/test_set', transform=transform)
test_loader = DataLoader(test_data, batch_size=64, shuffle=False)

# 손실 및 정확도 그래프 시각화
def plot_training_history(train_losses, valid_losses, train_accuracies, valid_accuracies):
    epochs = range(1, len(train_losses) + 1)
    plt.figure(figsize=(14, 5))
    # 손실 그래프
    plt.subplot(1, 2, 1)
    plt.plot(epochs, train_losses, 'bo-', label='Training loss')
    plt.plot(epochs, valid_losses, 'ro-', label='Validation loss')
    plt.title('Training and Validation Loss')
    plt.xlabel('Epochs')
    plt.ylabel('Loss')
    plt.legend()
    # 정확도 그래프
    plt.subplot(1, 2, 2)
    plt.plot(epochs, train_accuracies, 'bo-', label='Training Accuracy')
    plt.plot(epochs, valid_accuracies, 'ro-', label='Validation Accuracy')
    plt.title('Training and Validation Accuracy')
    plt.xlabel('Epochs')
    plt.ylabel('Accuracy')
    plt.legend()

    plt.show()

# 혼동 행렬 시각화
def plot_confusion_matrix(model, data_loader, device):
    all_preds, all_labels = [], []

    model.eval()
    with torch.no_grad():
        for images, labels in data_loader:
            images, labels = images.to(device), labels.to(device)
            outputs = model(images)
            preds = torch.round(outputs).cpu().numpy()
            labels = labels.cpu().numpy()

            all_preds.extend(preds.flatten())
            all_labels.extend(labels.flatten())

    cm = confusion_matrix(all_labels, all_preds)
    disp = ConfusionMatrixDisplay(confusion_matrix=cm, display_labels=['Cat', 'Dog'])
    disp.plot(cmap='Blues')
    plt.show()

# 혼동 행렬 출력
plot_confusion_matrix(model, test_loader, device)
